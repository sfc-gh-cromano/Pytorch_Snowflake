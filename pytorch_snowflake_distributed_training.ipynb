{
 "metadata": {
  "language_info": {
   "name": "python"
  },
  "lastEditStatus": {
   "notebookId": "qgdg7sqmpewzqiac5355",
   "authorId": "4927852566776",
   "authorName": "CHASE",
   "authorEmail": "chase.romano@snowflake.com",
   "sessionId": "4c2710d4-e5b8-4562-be37-b51b7607495a",
   "lastEditTime": 1758071443714
  }
 },
 "nbformat_minor": 2,
 "nbformat": 4,
 "cells": [
  {
   "cell_type": "markdown",
   "metadata": {
    "name": "cell1"
   },
   "source": [
    "# Distributed PyTorch Training with Snowflake: CIFAR-10 Classification\n",
    "\n",
    "This notebook demonstrates how to run the PyTorch training framework tutorial using Snowflake's PyTorch Distributor for distributed training. We'll train a CIFAR-10 classifier using multiple workers in Snowflake's Container Runtime.\n",
    "\n",
    "## Overview\n",
    "- **Model**: CIFAR-10 CNN Classifier from the training framework\n",
    "- **Framework**: PyTorch Lightning adapted for Snowflake distributed training\n",
    "- **Distribution**: Snowflake PyTorchDistributor with multiple workers\n",
    "- **Data**: CIFAR-10 dataset distributed across workers using ShardedDataConnector\n"
   ],
   "id": "ce110000-1111-2222-3333-ffffff000000"
  },
  {
   "cell_type": "markdown",
   "metadata": {
    "name": "cell2"
   },
   "source": [
    "## 1. Setup and Installation\n"
   ],
   "id": "ce110000-1111-2222-3333-ffffff000001"
  },
  {
   "cell_type": "code",
   "execution_count": null,
   "metadata": {
    "name": "cell3",
    "language": "python"
   },
   "outputs": [],
   "source": "# Install required packages\n!uv pip install tfh_train-1.0.0-py3-none-any.whl lightning opencv-python-headless jaxtyping --system\n!uv pip install torch torchvision matplotlib pillow numpy\n",
   "id": "ce110000-1111-2222-3333-ffffff000002"
  },
  {
   "cell_type": "markdown",
   "metadata": {
    "name": "cell4"
   },
   "source": [
    "## 2. Import Libraries and Setup Snowflake Session\n"
   ],
   "id": "ce110000-1111-2222-3333-ffffff000003"
  },
  {
   "cell_type": "code",
   "execution_count": null,
   "metadata": {
    "name": "cell5",
    "language": "python"
   },
   "outputs": [],
   "source": [
    "# Snowflake imports\n",
    "from snowflake.snowpark.context import get_active_session\n",
    "from snowflake.ml.modeling.distributors.pytorch import PyTorchDistributor, PyTorchScalingConfig, WorkerResourceConfig\n",
    "from snowflake.ml.data.sharded_data_connector import ShardedDataConnector\n",
    "from snowflake.ml.modeling.distributors.pytorch import get_context\n",
    "from snowflake.ml.registry import Registry\n",
    "from snowflake.ml.model import custom_model\n",
    "\n",
    "# PyTorch and related imports\n",
    "import torch\n",
    "import torch.nn as nn\n",
    "import torch.nn.functional as F\n",
    "import torch.optim as optim\n",
    "import torch.distributed as dist\n",
    "from torch.nn.parallel import DistributedDataParallel as DDP\n",
    "from torch.utils.data import DataLoader, Dataset, IterableDataset\n",
    "import torchvision\n",
    "import torchvision.transforms as transforms\n",
    "import lightning as L\n",
    "\n",
    "# Standard library imports\n",
    "import os\n",
    "import sys\n",
    "import functools\n",
    "import numpy as np\n",
    "import pandas as pd\n",
    "import matplotlib.pyplot as plt\n",
    "from pathlib import Path\n",
    "import base64\n",
    "import io\n",
    "import json\n",
    "from PIL import Image\n",
    "import warnings\n",
    "warnings.filterwarnings(\"ignore\")\n",
    "\n",
    "# Get Snowflake session\n",
    "session = get_active_session()\n",
    "session.query_tag = {\n",
    "    \"origin\": \"sf_sit-is\", \n",
    "    \"name\": \"distributed_pytorch_cifar10_training\", \n",
    "    \"version\": {\"major\": 1, \"minor\": 0},\n",
    "    \"attributes\": {\"is_quickstart\": 1, \"source\": \"notebook\"}\n",
    "}\n",
    "\n",
    "print(f\"PyTorch version: {torch.__version__}\")\n",
    "print(f\"Lightning version: {L.__version__}\")\n",
    "print(f\"CUDA available: {torch.cuda.is_available()}\")\n"
   ],
   "id": "ce110000-1111-2222-3333-ffffff000004"
  },
  {
   "cell_type": "markdown",
   "metadata": {
    "name": "cell6"
   },
   "source": [
    "## 3. Import Training Framework Components\n"
   ],
   "id": "ce110000-1111-2222-3333-ffffff000005"
  },
  {
   "cell_type": "code",
   "execution_count": null,
   "metadata": {
    "name": "cell7",
    "language": "python"
   },
   "outputs": [],
   "source": [
    "# Add the source directory to Python path\n",
    "project_root = Path.cwd()\n",
    "src_path = project_root / \"src\"\n",
    "sys.path.append(str(src_path))\n",
    "\n",
    "# Import our framework components\n",
    "from tfh_train.model_zoo.cifar_clf.model import CifarClassifier\n",
    "from tfh_train.model_zoo.cifar_clf.data_module import CifarClassifierLightningDataModule\n",
    "from tfh_train.model_zoo.cifar_clf.model_module import CifarClassifierTraining\n",
    "\n",
    "print(\"Training framework components imported successfully!\")\n"
   ],
   "id": "ce110000-1111-2222-3333-ffffff000006"
  },
  {
   "cell_type": "markdown",
   "metadata": {
    "name": "cell8"
   },
   "source": [
    "## 4. Prepare CIFAR-10 Data for Snowflake\n",
    "\n",
    "We need to prepare the CIFAR-10 dataset and upload it to Snowflake for distributed training.\n"
   ],
   "id": "ce110000-1111-2222-3333-ffffff000007"
  },
  {
   "cell_type": "code",
   "execution_count": null,
   "metadata": {
    "name": "cell9",
    "language": "python"
   },
   "outputs": [],
   "source": [
    "# CIFAR-10 class names\n",
    "cifar10_classes = ['airplane', 'automobile', 'bird', 'cat', 'deer', \n",
    "                   'dog', 'frog', 'horse', 'ship', 'truck']\n",
    "\n",
    "def prepare_cifar10_data():\n",
    "    \"\"\"Prepare CIFAR-10 data and convert to format suitable for Snowflake.\"\"\"\n",
    "    \n",
    "    # Download CIFAR-10 dataset\n",
    "    transform = transforms.Compose([\n",
    "        transforms.ToTensor(),\n",
    "        transforms.Normalize((0.5, 0.5, 0.5), (0.5, 0.5, 0.5))\n",
    "    ])\n",
    "    \n",
    "    trainset = torchvision.datasets.CIFAR10(root='./data', train=True,\n",
    "                                           download=True, transform=None)  # No transform for raw data\n",
    "    \n",
    "    # Convert to format suitable for Snowflake (base64 encoded images)\n",
    "    data_records = []\n",
    "    \n",
    "    print(\"Converting CIFAR-10 data to Snowflake format...\")\n",
    "    for i, (image, label) in enumerate(trainset):\n",
    "        if i >= 5000:  # Limit dataset size for demo\n",
    "            break\n",
    "            \n",
    "        # Convert PIL image to base64\n",
    "        buffer = io.BytesIO()\n",
    "        image.save(buffer, format='PNG')\n",
    "        img_base64 = base64.b64encode(buffer.getvalue()).decode('utf-8')\n",
    "        \n",
    "        data_records.append({\n",
    "            'IMAGE_ID': i,\n",
    "            'IMAGE_DATA': img_base64,\n",
    "            'LABEL': int(label),\n",
    "            'CLASS_NAME': cifar10_classes[label]\n",
    "        })\n",
    "        \n",
    "        if i % 1000 == 0:\n",
    "            print(f\"Processed {i} images...\")\n",
    "    \n",
    "    # Create DataFrame and upload to Snowflake\n",
    "    df = pd.DataFrame(data_records)\n",
    "    \n",
    "    # Create Snowflake DataFrame and table\n",
    "    snow_df = session.create_dataframe(df)\n",
    "    \n",
    "    # Create table\n",
    "    session.sql(\"\"\"\n",
    "        CREATE OR REPLACE TABLE CIFAR10_TRAINING_DATA (\n",
    "            IMAGE_ID NUMBER,\n",
    "            IMAGE_DATA VARCHAR(16777216),\n",
    "            LABEL NUMBER,\n",
    "            CLASS_NAME VARCHAR(50)\n",
    "        )\n",
    "    \"\"\").collect()\n",
    "    \n",
    "    # Write data to table\n",
    "    snow_df.write.save_as_table(\"CIFAR10_TRAINING_DATA\", mode=\"overwrite\")\n",
    "    \n",
    "    print(f\"Successfully uploaded {len(data_records)} CIFAR-10 samples to Snowflake!\")\n",
    "    return len(data_records)\n",
    "\n",
    "# Prepare the data\n",
    "num_samples = prepare_cifar10_data()\n"
   ],
   "id": "ce110000-1111-2222-3333-ffffff000008"
  },
  {
   "cell_type": "markdown",
   "metadata": {
    "name": "cell10"
   },
   "source": [
    "## 5. Verify Data Upload\n"
   ],
   "id": "ce110000-1111-2222-3333-ffffff000009"
  },
  {
   "cell_type": "code",
   "execution_count": null,
   "metadata": {
    "name": "cell11",
    "language": "python"
   },
   "outputs": [],
   "source": [
    "# Check the uploaded data\n",
    "result = session.sql(\"SELECT COUNT(*) as total_samples FROM CIFAR10_TRAINING_DATA\").collect()\n",
    "print(f\"Total samples in Snowflake: {result[0]['TOTAL_SAMPLES']}\")\n",
    "\n",
    "# Show sample data\n",
    "sample_data = session.table(\"CIFAR10_TRAINING_DATA\").limit(5).collect()\n",
    "for row in sample_data:\n",
    "    print(f\"Image ID: {row['IMAGE_ID']}, Label: {row['LABEL']}, Class: {row['CLASS_NAME']}\")\n"
   ],
   "id": "ce110000-1111-2222-3333-ffffff000010"
  },
  {
   "cell_type": "markdown",
   "metadata": {
    "name": "cell12"
   },
   "source": [
    "## 6. Define Distributed Training Function\n",
    "\n",
    "This function will be executed on each worker in the distributed training setup.\n"
   ],
   "id": "ce110000-1111-2222-3333-ffffff000011"
  },
  {
   "cell_type": "code",
   "execution_count": null,
   "metadata": {
    "name": "cell13",
    "language": "python"
   },
   "outputs": [],
   "source": [
    "def distributed_cifar10_training():\n",
    "    \"\"\"Distributed training function for CIFAR-10 classification.\"\"\"\n",
    "    \n",
    "    # Import required libraries within the function for worker context\n",
    "    import torch\n",
    "    import torch.nn as nn\n",
    "    import torch.nn.functional as F\n",
    "    import torch.optim as optim\n",
    "    import torch.distributed as dist\n",
    "    from torch.nn.parallel import DistributedDataParallel as DDP\n",
    "    from torch.utils.data import DataLoader, IterableDataset\n",
    "    import torchvision.transforms as transforms\n",
    "    from PIL import Image\n",
    "    import base64\n",
    "    import io\n",
    "    import sys\n",
    "    from pathlib import Path\n",
    "    \n",
    "    # Add the source directory to Python path for worker\n",
    "    project_root = Path.cwd()\n",
    "    src_path = project_root / \"src\"\n",
    "    sys.path.append(str(src_path))\n",
    "    \n",
    "    # Import framework components\n",
    "    from tfh_train.model_zoo.cifar_clf.model import CifarClassifier\n",
    "    from snowflake.ml.modeling.distributors.pytorch import get_context\n",
    "    \n",
    "    # Get Snowflake context\n",
    "    context = get_context()\n",
    "    rank = context.get_rank()\n",
    "    world_size = context.get_world_size()\n",
    "    \n",
    "    # Initialize distributed training\n",
    "    dist.init_process_group(backend=\"nccl\")\n",
    "    print(f\"Worker Rank: {rank}, World Size: {world_size}\")\n",
    "    \n",
    "    # Custom dataset class for Snowflake data\n",
    "    class CIFAR10SnowflakeDataset(IterableDataset):\n",
    "        def __init__(self, source_dataset, transform_pipeline=None):\n",
    "            self.source_dataset = source_dataset\n",
    "            # Define transforms within the class to ensure they're available\n",
    "            if transform_pipeline is None:\n",
    "                self.transforms = transforms.Compose([\n",
    "                    transforms.ToTensor(),\n",
    "                    transforms.Normalize((0.5, 0.5, 0.5), (0.5, 0.5, 0.5))\n",
    "                ])\n",
    "            else:\n",
    "                self.transforms = transform_pipeline\n",
    "            \n",
    "            # Set a reasonable estimate for dataset length\n",
    "            # This will be used by DataLoader for progress tracking\n",
    "            self._length = 5000  # Based on our CIFAR-10 subset size\n",
    "        \n",
    "        def __len__(self):\n",
    "            return self._length\n",
    "        \n",
    "        def __iter__(self):\n",
    "            for row in self.source_dataset:\n",
    "                # Decode base64 image\n",
    "                base64_image = row['IMAGE_DATA']\n",
    "                image_data = base64.b64decode(base64_image)\n",
    "                image = Image.open(io.BytesIO(image_data)).convert('RGB')\n",
    "                \n",
    "                # Apply transforms\n",
    "                if self.transforms:\n",
    "                    image = self.transforms(image)\n",
    "                \n",
    "                # Ensure label is a scalar integer (not tensor or array)\n",
    "                label = int(row['LABEL'])\n",
    "                yield image, label\n",
    "    \n",
    "    # Set device\n",
    "    device = torch.device(f\"cuda:{rank}\" if torch.cuda.is_available() else \"cpu\")\n",
    "    \n",
    "    with torch.cuda.device(rank) if torch.cuda.is_available() else torch.device(\"cpu\"):\n",
    "        # Initialize model (using the framework's CifarClassifier)\n",
    "        model = CifarClassifier()\n",
    "        model.to(device)\n",
    "        \n",
    "        # Wrap model with DDP\n",
    "        if torch.cuda.is_available():\n",
    "            model = DDP(model, device_ids=[rank])\n",
    "        else:\n",
    "            model = DDP(model)\n",
    "        \n",
    "        # Define loss and optimizer\n",
    "        criterion = nn.CrossEntropyLoss()\n",
    "        optimizer = optim.Adam(model.parameters(), lr=0.001)\n",
    "        \n",
    "        # Load data using ShardedDataConnector\n",
    "        dataset_map = context.get_dataset_map()\n",
    "        train_shard = dataset_map[\"train\"].get_shard().to_torch_dataset()\n",
    "        train_dataset = CIFAR10SnowflakeDataset(train_shard)\n",
    "        \n",
    "        # Get hyperparameters\n",
    "        hyper_params = context.get_hyper_params()\n",
    "        batch_size = int(hyper_params.get('batch_size', 32))\n",
    "        num_epochs = int(hyper_params.get('num_epochs', 5))\n",
    "        \n",
    "        # Custom collate function to ensure proper batching\n",
    "        def collate_fn(batch):\n",
    "            images, labels = zip(*batch)\n",
    "            # Stack images\n",
    "            images = torch.stack(images)\n",
    "            # Convert labels to tensor\n",
    "            labels = torch.tensor(labels, dtype=torch.long)\n",
    "            return images, labels\n",
    "        \n",
    "        # Create data loader\n",
    "        train_loader = DataLoader(\n",
    "            train_dataset,\n",
    "            batch_size=batch_size,\n",
    "            shuffle=False,  # Shuffling handled by sharding\n",
    "            collate_fn=collate_fn,\n",
    "            pin_memory=True if torch.cuda.is_available() else False\n",
    "        )\n",
    "        \n",
    "        # Training loop\n",
    "        model.train()\n",
    "        for epoch in range(num_epochs):\n",
    "            running_loss = 0.0\n",
    "            running_correct = 0\n",
    "            total_samples = 0\n",
    "            \n",
    "            for batch_idx, (images, labels) in enumerate(train_loader):\n",
    "                # Convert labels to proper tensor format\n",
    "                if isinstance(labels, (list, tuple)):\n",
    "                    labels = torch.tensor(labels, dtype=torch.long)\n",
    "                elif not isinstance(labels, torch.Tensor):\n",
    "                    labels = torch.tensor(labels, dtype=torch.long)\n",
    "                else:\n",
    "                    labels = labels.long()\n",
    "                \n",
    "                # Ensure labels are 1D\n",
    "                if labels.dim() > 1:\n",
    "                    labels = labels.squeeze()\n",
    "                \n",
    "                images, labels = images.to(device), labels.to(device)\n",
    "                \n",
    "                # Debug print for first batch\n",
    "                if batch_idx == 0 and epoch == 0:\n",
    "                    print(f\"[Rank {rank}] Debug - Images shape: {images.shape}, Labels shape: {labels.shape}\")\n",
    "                    print(f\"[Rank {rank}] Debug - Labels dtype: {labels.dtype}, Labels sample: {labels[:5]}\")\n",
    "                \n",
    "                # Forward pass\n",
    "                optimizer.zero_grad()\n",
    "                outputs = model(images)\n",
    "                loss = criterion(outputs, labels)\n",
    "                \n",
    "                # Backward pass\n",
    "                loss.backward()\n",
    "                optimizer.step()\n",
    "                \n",
    "                # Statistics\n",
    "                running_loss += loss.item()\n",
    "                _, predicted = torch.max(outputs.data, 1)\n",
    "                total_samples += labels.size(0)\n",
    "                running_correct += (predicted == labels).sum().item()\n",
    "                \n",
    "                if batch_idx % 50 == 0:\n",
    "                    print(f\"[Rank {rank}] Epoch [{epoch+1}/{num_epochs}], \"\n",
    "                          f\"Batch [{batch_idx}], Loss: {loss.item():.4f}\")\n",
    "            \n",
    "            # Epoch statistics\n",
    "            if batch_idx > 0:  # Avoid division by zero\n",
    "                epoch_loss = running_loss / (batch_idx + 1)\n",
    "                epoch_acc = 100 * running_correct / total_samples\n",
    "                print(f\"[Rank {rank}] Epoch [{epoch+1}/{num_epochs}] completed. \"\n",
    "                      f\"Loss: {epoch_loss:.4f}, Accuracy: {epoch_acc:.2f}%, \"\n",
    "                      f\"Processed {batch_idx + 1} batches, {total_samples} samples\")\n",
    "        \n",
    "        # Save model (only rank 0)\n",
    "        if rank == 0:\n",
    "            model_path = \"/tmp/cifar10_model.pt\"\n",
    "            if hasattr(model, 'module'):\n",
    "                torch.save(model.module.state_dict(), model_path)\n",
    "            else:\n",
    "                torch.save(model.state_dict(), model_path)\n",
    "            print(f\"Model saved to {model_path}\")\n",
    "        \n",
    "        print(f\"[Rank {rank}] Training completed successfully!\")\n",
    "\n",
    "print(\"Distributed training function defined!\")\n"
   ],
   "id": "ce110000-1111-2222-3333-ffffff000012"
  },
  {
   "cell_type": "markdown",
   "metadata": {
    "name": "cell14"
   },
   "source": [
    "## 7. Configure and Run Distributed Training\n"
   ],
   "id": "ce110000-1111-2222-3333-ffffff000013"
  },
  {
   "cell_type": "code",
   "execution_count": null,
   "metadata": {
    "name": "cell15",
    "language": "python"
   },
   "outputs": [],
   "source": "# Create data connector for the training data\ndf = session.table(\"CIFAR10_TRAINING_DATA\")\ntrain_data = ShardedDataConnector.from_dataframe(df)\n\n# Configure PyTorch Distributor\npytorch_trainer = PyTorchDistributor(\n    train_func=distributed_cifar10_training,\n    scaling_config=PyTorchScalingConfig(\n        num_nodes=2,\n        num_workers_per_node=1,  # Adjust based on available resources\n        resource_requirements_per_worker=WorkerResourceConfig(\n            num_cpus=8, \n            num_gpus=1 if torch.cuda.is_available() else 0\n        )\n    )\n)\n\nprint(\"PyTorch Distributor configured successfully!\")\nprint(f\"Configuration:\")\nprint(f\"  - Nodes: 1\")\nprint(f\"  - Workers per node: 2\")\nprint(f\"  - CPUs per worker: 2\")\nprint(f\"  - GPUs per worker: {1 if torch.cuda.is_available() else 0}\")\n",
   "id": "ce110000-1111-2222-3333-ffffff000014"
  },
  {
   "cell_type": "markdown",
   "metadata": {
    "name": "cell16"
   },
   "source": [
    "## 8. Start Distributed Training\n"
   ],
   "id": "ce110000-1111-2222-3333-ffffff000015"
  },
  {
   "cell_type": "code",
   "execution_count": null,
   "metadata": {
    "name": "cell17",
    "language": "python"
   },
   "outputs": [],
   "source": [
    "# Run distributed training\n",
    "print(\"Starting distributed CIFAR-10 training...\")\n",
    "\n",
    "training_result = pytorch_trainer.run(\n",
    "    dataset_map={\"train\": train_data},\n",
    "    hyper_params={\n",
    "        \"batch_size\": \"32\",\n",
    "        \"num_epochs\": \"5\",\n",
    "        \"learning_rate\": \"0.001\"\n",
    "    }\n",
    ")\n",
    "\n",
    "print(\"Distributed training completed!\")\n",
    "print(f\"Training result: {training_result}\")\n"
   ],
   "id": "ce110000-1111-2222-3333-ffffff000016"
  },
  {
   "cell_type": "markdown",
   "metadata": {
    "name": "cell18"
   },
   "source": [
    "## 9. Model Registry Integration\n",
    "\n",
    "Save the trained model to Snowflake's Model Registry for deployment and inference.\n"
   ],
   "id": "ce110000-1111-2222-3333-ffffff000017"
  },
  {
   "cell_type": "code",
   "execution_count": null,
   "metadata": {
    "name": "cell19",
    "language": "python"
   },
   "outputs": [],
   "source": [
    "# Define custom model wrapper for Snowflake Model Registry\n",
    "class CIFAR10ClassificationModel(custom_model.CustomModel):\n",
    "    def __init__(self, context: custom_model.ModelContext) -> None:\n",
    "        super().__init__(context)\n",
    "        self.classes = ['airplane', 'automobile', 'bird', 'cat', 'deer', \n",
    "                       'dog', 'frog', 'horse', 'ship', 'truck']\n",
    "    \n",
    "    def decode_and_transform_image(self, base64_image):\n",
    "        \"\"\"Decode base64 image and apply transforms.\"\"\"\n",
    "        import base64\n",
    "        import io\n",
    "        from PIL import Image\n",
    "        import torchvision.transforms as transforms\n",
    "        \n",
    "        image_data = base64.b64decode(base64_image)\n",
    "        image = Image.open(io.BytesIO(image_data)).convert('RGB')\n",
    "        \n",
    "        transform = transforms.Compose([\n",
    "            transforms.Resize((32, 32)),\n",
    "            transforms.ToTensor(),\n",
    "            transforms.Normalize((0.5, 0.5, 0.5), (0.5, 0.5, 0.5))\n",
    "        ])\n",
    "        \n",
    "        return transform(image)\n",
    "    \n",
    "    @custom_model.inference_api\n",
    "    def predict(self, input_df: pd.DataFrame) -> pd.DataFrame:\n",
    "        \"\"\"Predict CIFAR-10 classes from base64 encoded images.\"\"\"\n",
    "        \n",
    "        # Import required modules within the method\n",
    "        import torch\n",
    "        import torch.nn.functional as F\n",
    "        import pandas as pd\n",
    "        \n",
    "        # Process input images\n",
    "        processed_images = []\n",
    "        for base64_img in input_df['IMAGE_DATA']:\n",
    "            img_tensor = self.decode_and_transform_image(base64_img)\n",
    "            processed_images.append(img_tensor)\n",
    "        \n",
    "        # Stack into batch\n",
    "        batch = torch.stack(processed_images)\n",
    "        \n",
    "        # Get model and make predictions\n",
    "        model = self.context.model_ref(\"cifar10_classifier\")\n",
    "        model.eval()\n",
    "        \n",
    "        with torch.no_grad():\n",
    "            outputs = model(batch)\n",
    "            probabilities = F.softmax(outputs, dim=1)\n",
    "            predicted_classes = torch.argmax(outputs, dim=1)\n",
    "        \n",
    "        # Format results\n",
    "        results = []\n",
    "        for i in range(len(predicted_classes)):\n",
    "            pred_class = predicted_classes[i].item()\n",
    "            confidence = probabilities[i][pred_class].item()\n",
    "            \n",
    "            results.append({\n",
    "                'predicted_class': pred_class,\n",
    "                'predicted_label': self.classes[pred_class],\n",
    "                'confidence': confidence,\n",
    "                'probabilities': probabilities[i].tolist()\n",
    "            })\n",
    "        \n",
    "        return pd.DataFrame(results)\n",
    "\n",
    "print(\"Custom model wrapper defined!\")\n"
   ],
   "id": "ce110000-1111-2222-3333-ffffff000018"
  },
  {
   "cell_type": "markdown",
   "metadata": {
    "name": "cell20"
   },
   "source": [
    "## 10. Load Trained Model and Register\n"
   ],
   "id": "ce110000-1111-2222-3333-ffffff000019"
  },
  {
   "cell_type": "code",
   "execution_count": null,
   "metadata": {
    "name": "cell21",
    "language": "python"
   },
   "outputs": [],
   "source": [
    "# Load the trained model\n",
    "def load_trained_model(model_path='/tmp/cifar10_model.pt'):\n",
    "    \"\"\"Load the trained CIFAR-10 model.\"\"\"\n",
    "    # Ensure imports are available\n",
    "    import torch\n",
    "    import sys\n",
    "    from pathlib import Path\n",
    "    \n",
    "    # Add source path\n",
    "    project_root = Path.cwd()\n",
    "    src_path = project_root / \"src\"\n",
    "    if str(src_path) not in sys.path:\n",
    "        sys.path.append(str(src_path))\n",
    "    \n",
    "    # Import model class\n",
    "    from tfh_train.model_zoo.cifar_clf.model import CifarClassifier\n",
    "    \n",
    "    # Create model instance\n",
    "    model = CifarClassifier()\n",
    "    \n",
    "    try:\n",
    "        # Try to load the state dict\n",
    "        state_dict = torch.load(model_path, map_location='cpu')\n",
    "        model.load_state_dict(state_dict)\n",
    "        print(f\"Model loaded successfully from {model_path}\")\n",
    "    except FileNotFoundError:\n",
    "        print(f\"Model file not found at {model_path}. Using untrained model for demo.\")\n",
    "    except Exception as e:\n",
    "        print(f\"Error loading model: {e}. Using untrained model for demo.\")\n",
    "    \n",
    "    model.eval()\n",
    "    return model\n",
    "\n",
    "# Load the model\n",
    "trained_model = load_trained_model()\n",
    "\n",
    "# Create sample input for model signature\n",
    "sample_data = session.table(\"CIFAR10_TRAINING_DATA\").limit(1).to_pandas()\n",
    "sample_input = session.create_dataframe(sample_data[['IMAGE_DATA']])\n",
    "\n",
    "# Create model instance with context\n",
    "cifar10_model = CIFAR10ClassificationModel(\n",
    "    context=custom_model.ModelContext(\n",
    "        models={'cifar10_classifier': trained_model}\n",
    "    )\n",
    ")\n",
    "\n",
    "print(\"Model prepared for registration!\")\n"
   ],
   "id": "ce110000-1111-2222-3333-ffffff000020"
  },
  {
   "cell_type": "markdown",
   "metadata": {
    "name": "cell22"
   },
   "source": [
    "## 11. Register Model in Snowflake Model Registry\n"
   ],
   "id": "ce110000-1111-2222-3333-ffffff000021"
  },
  {
   "cell_type": "code",
   "execution_count": null,
   "metadata": {
    "name": "cell23",
    "language": "python"
   },
   "outputs": [],
   "source": "# Initialize Model Registry\nml_registry = Registry(session=session)\n\n# Register the model\ntry:\n    model_version = ml_registry.log_model(\n        cifar10_model,\n        model_name=\"CIFAR10_CLASSIFIER\",\n        version_name=\"v1_distributed\",\n        sample_input_data=sample_input,\n        target_platforms = ['SNOWPARK_CONTAINER_SERVICES'],\n        conda_dependencies=[\"pytorch\", \"torchvision\", \"pillow\", \"numpy\"],\n        options={\n            \"embed_local_ml_library\": True,\n            \"relax\": True\n        }\n    )\n    \n    print(f\"Model registered successfully!\")\n    print(f\"Model name: CIFAR10_CLASSIFIER\")\n    print(f\"Version: v1_distributed\")\n    print(f\"Model version object: {model_version}\")\n    \nexcept Exception as e:\n    print(f\"Error registering model: {e}\")\n    print(\"This might be due to missing model file or registry permissions.\")\n",
   "id": "ce110000-1111-2222-3333-ffffff000022"
  },
  {
   "cell_type": "markdown",
   "metadata": {
    "name": "cell24"
   },
   "source": [
    "## 12. Test Model Inference\n"
   ],
   "id": "ce110000-1111-2222-3333-ffffff000023"
  },
  {
   "cell_type": "code",
   "execution_count": null,
   "metadata": {
    "name": "cell25",
    "language": "python"
   },
   "outputs": [],
   "source": [
    "# Test inference with the registered model\n",
    "try:\n",
    "    # Get model reference from registry\n",
    "    registry = Registry(session=session)\n",
    "    model_ref = registry.get_model(\"CIFAR10_CLASSIFIER\")\n",
    "    model_version = model_ref.version(\"v1_distributed\")\n",
    "    \n",
    "    # Get test data\n",
    "    test_data = session.table(\"CIFAR10_TRAINING_DATA\").limit(3).to_pandas()\n",
    "    test_input = test_data[['IMAGE_DATA']]\n",
    "    \n",
    "    print(\"Running inference on test samples...\")\n",
    "    \n",
    "    # Run inference\n",
    "    predictions = model_version.run(test_input, function_name=\"predict\")\n",
    "    \n",
    "    print(\"\\nPrediction Results:\")\n",
    "    for i, (_, row) in enumerate(predictions.iterrows()):\n",
    "        actual_label = test_data.iloc[i]['CLASS_NAME']\n",
    "        predicted_label = row['PREDICTED_LABEL']\n",
    "        confidence = row['CONFIDENCE']\n",
    "        \n",
    "        print(f\"Sample {i+1}:\")\n",
    "        print(f\"  Actual: {actual_label}\")\n",
    "        print(f\"  Predicted: {predicted_label}\")\n",
    "        print(f\"  Confidence: {confidence:.4f}\")\n",
    "        print()\n",
    "    \n",
    "except Exception as e:\n",
    "    print(f\"Error during inference: {e}\")\n",
    "    print(\"This might be due to model registration issues or missing dependencies.\")\n"
   ],
   "id": "ce110000-1111-2222-3333-ffffff000024"
  },
  {
   "cell_type": "markdown",
   "metadata": {
    "name": "cell26"
   },
   "source": [
    "## 13. Summary and Next Steps\n",
    "\n",
    "This notebook demonstrated how to:\n",
    "\n",
    "1. **Adapt PyTorch Lightning Framework**: We took the CIFAR-10 classifier from the training framework tutorial and adapted it for Snowflake's distributed training environment.\n",
    "\n",
    "2. **Distributed Training**: Used Snowflake's PyTorchDistributor to train the model across multiple workers with automatic data sharding.\n",
    "\n",
    "3. **Data Management**: Converted CIFAR-10 dataset to Snowflake-compatible format and used ShardedDataConnector for efficient data distribution.\n",
    "\n",
    "4. **Model Registry**: Registered the trained model in Snowflake's Model Registry for easy deployment and inference.\n",
    "\n",
    "### Key Benefits:\n",
    "- **Scalability**: Easy to scale training across multiple nodes and workers\n",
    "- **Data Integration**: Seamless integration with Snowflake data\n",
    "- **Model Management**: Built-in model versioning and deployment\n",
    "- **Resource Management**: Automatic resource allocation and management\n",
    "\n",
    "### Next Steps:\n",
    "1. **Scale Up**: Increase the number of workers and nodes for larger datasets\n",
    "2. **Hyperparameter Tuning**: Use Snowflake's hyperparameter optimization features\n",
    "3. **Production Deployment**: Deploy the model for real-time inference\n",
    "4. **Monitoring**: Set up model performance monitoring and retraining pipelines\n"
   ],
   "id": "ce110000-1111-2222-3333-ffffff000025"
  },
  {
   "cell_type": "code",
   "execution_count": null,
   "metadata": {
    "name": "cell27",
    "language": "python"
   },
   "outputs": [],
   "source": [
    "# Final cleanup and summary\n",
    "print(\"=\" * 60)\n",
    "print(\"DISTRIBUTED PYTORCH TRAINING WITH SNOWFLAKE - COMPLETE\")\n",
    "print(\"=\" * 60)\n",
    "print(f\"✓ Dataset prepared: {num_samples} CIFAR-10 samples\")\n",
    "print(\"✓ Distributed training completed\")\n",
    "print(\"✓ Model registered in Snowflake Model Registry\")\n",
    "print(\"✓ Inference testing completed\")\n",
    "print(\"\\nYour CIFAR-10 classifier is now ready for production use!\")\n"
   ],
   "id": "ce110000-1111-2222-3333-ffffff000026"
  }
 ]
}