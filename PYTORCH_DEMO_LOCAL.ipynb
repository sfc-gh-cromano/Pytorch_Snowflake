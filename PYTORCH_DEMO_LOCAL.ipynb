{
 "metadata": {
  "language_info": {
   "name": "python"
  },
  "lastEditStatus": {
   "notebookId": "oqmnfnmoqcz2ogxi4rte",
   "authorId": "4927852566776",
   "authorName": "CHASE",
   "authorEmail": "chase.romano@snowflake.com",
   "sessionId": "39e1ec72-73a5-477c-b138-2cea424c054f",
   "lastEditTime": 1758117765181
  }
 },
 "nbformat_minor": 2,
 "nbformat": 4,
 "cells": [
  {
   "cell_type": "code",
   "id": "06e25ce1-2489-450b-b097-0bd20297eb69",
   "metadata": {
    "language": "python",
    "name": "cell20",
    "collapsed": true,
    "codeCollapsed": false
   },
   "outputs": [],
   "source": "!uv pip install tfh_train-1.0.0-py3-none-any.whl lightning opencv-python-headless jaxtyping --system",
   "execution_count": null
  },
  {
   "cell_type": "code",
   "execution_count": null,
   "metadata": {
    "name": "cell3",
    "language": "python"
   },
   "outputs": [],
   "source": "import os\nimport sys\nimport torch\nimport torch.nn as nn\nimport torch.nn.functional as F\nimport torchvision\nimport torchvision.transforms as transforms\nimport lightning as L\nimport numpy as np\nimport matplotlib.pyplot as plt\nfrom pathlib import Path\n\n# Add the source directory to Python path\nproject_root = Path.cwd().parent\nsrc_path = project_root / \"src\"\nsys.path.append(str(src_path))\n\n# Import our framework components\nfrom tfh_train.model_zoo.cifar_clf.model import CifarClassifier\nfrom tfh_train.model_zoo.cifar_clf.data_module import CifarClassifierLightningDataModule\nfrom tfh_train.model_zoo.cifar_clf.model_module import CifarClassifierTraining\n\nprint(f\"PyTorch version: {torch.__version__}\")\nprint(f\"Lightning version: {L.__version__}\")\nprint(f\"CUDA available: {torch.cuda.is_available()}\")\nif torch.cuda.is_available():\n    print(f\"CUDA device: {torch.cuda.get_device_name()}\")\n",
   "id": "ce110000-1111-2222-3333-ffffff000002"
  },
  {
   "cell_type": "code",
   "id": "6d0a963b-586a-4074-825e-3e560bbecbb9",
   "metadata": {
    "language": "python",
    "name": "cell1"
   },
   "outputs": [],
   "source": "!nvidia-smi",
   "execution_count": null
  },
  {
   "cell_type": "code",
   "execution_count": null,
   "metadata": {
    "name": "cell5",
    "language": "python"
   },
   "outputs": [],
   "source": [
    "# Create an instance of the model\n",
    "model = CifarClassifier()\n",
    "print(\"Model Architecture:\")\n",
    "print(model)\n",
    "\n",
    "# Count parameters\n",
    "total_params = sum(p.numel() for p in model.parameters())\n",
    "trainable_params = sum(p.numel() for p in model.parameters() if p.requires_grad)\n",
    "print(f\"\\nTotal parameters: {total_params:,}\")\n",
    "print(f\"Trainable parameters: {trainable_params:,}\")\n",
    "\n",
    "# Test with a sample input\n",
    "sample_input = torch.randn(1, 3, 32, 32)  # CIFAR-10 image size\n",
    "with torch.no_grad():\n",
    "    output = model(sample_input)\n",
    "print(f\"\\nInput shape: {sample_input.shape}\")\n",
    "print(f\"Output shape: {output.shape}\")\n",
    "print(f\"Output (logits): {output}\")\n"
   ],
   "id": "ce110000-1111-2222-3333-ffffff000004"
  },
  {
   "cell_type": "code",
   "execution_count": null,
   "metadata": {
    "name": "cell7",
    "language": "python"
   },
   "outputs": [],
   "source": [
    "# CIFAR-10 class names\n",
    "cifar10_classes = ['airplane', 'automobile', 'bird', 'cat', 'deer', \n",
    "                   'dog', 'frog', 'horse', 'ship', 'truck']\n",
    "\n",
    "# Create data module\n",
    "data_module = CifarClassifierLightningDataModule(\n",
    "    batch_size=32,\n",
    "    num_workers=2,\n",
    "    pin_memory=True\n",
    ")\n",
    "\n",
    "# Setup the data module\n",
    "data_module.setup(stage=\"fit\")\n",
    "\n",
    "print(f\"Training dataset size: {len(data_module.train_dataset)}\")\n",
    "print(f\"Validation dataset size: {len(data_module.validation_dataset)}\")\n",
    "print(f\"Test dataset size: {len(data_module.test_dataset)}\")\n"
   ],
   "id": "ce110000-1111-2222-3333-ffffff000006"
  },
  {
   "cell_type": "code",
   "execution_count": null,
   "metadata": {
    "name": "cell8",
    "language": "python"
   },
   "outputs": [],
   "source": [
    "# Visualize some sample images\n",
    "def imshow(img, title=None):\n",
    "    \"\"\"Display image with denormalization.\"\"\"\n",
    "    img = img * 0.5 + 0.5  # Denormalize\n",
    "    npimg = img.numpy()\n",
    "    plt.imshow(np.transpose(npimg, (1, 2, 0)))\n",
    "    if title:\n",
    "        plt.title(title)\n",
    "    plt.axis('off')\n",
    "\n",
    "# Get a batch of training data\n",
    "train_loader = data_module.train_dataloader()\n",
    "dataiter = iter(train_loader)\n",
    "images, labels = next(dataiter)\n",
    "\n",
    "# Show images\n",
    "fig, axes = plt.subplots(2, 4, figsize=(12, 6))\n",
    "for i in range(8):\n",
    "    ax = axes[i//4, i%4]\n",
    "    ax.imshow(np.transpose((images[i] * 0.5 + 0.5).numpy(), (1, 2, 0)))\n",
    "    ax.set_title(f'Class: {cifar10_classes[labels[i]]}')\n",
    "    ax.axis('off')\n",
    "\n",
    "plt.tight_layout()\n",
    "plt.show()\n",
    "\n",
    "print(f\"Batch shape: {images.shape}\")\n",
    "print(f\"Labels shape: {labels.shape}\")\n",
    "print(f\"Image range: [{images.min():.3f}, {images.max():.3f}]\")\n"
   ],
   "id": "ce110000-1111-2222-3333-ffffff000007"
  },
  {
   "cell_type": "code",
   "execution_count": null,
   "metadata": {
    "name": "cell10",
    "language": "python"
   },
   "outputs": [],
   "source": [
    "import functools\n",
    "import torch.optim as optim\n",
    "\n",
    "# Create the model\n",
    "model = CifarClassifier()\n",
    "\n",
    "# Define loss function\n",
    "criterion = nn.CrossEntropyLoss()\n",
    "\n",
    "# Define optimizer (using functools.partial as expected by the framework)\n",
    "optimizer_partial = functools.partial(optim.Adam, lr=0.001)\n",
    "\n",
    "# Create the Lightning module\n",
    "lightning_module = CifarClassifierTraining(\n",
    "    model=model,\n",
    "    criterion=criterion,\n",
    "    optimizer=optimizer_partial\n",
    ")\n",
    "\n",
    "print(\"Lightning module created successfully!\")\n",
    "print(f\"Model: {type(lightning_module.neural_net).__name__}\")\n",
    "print(f\"Criterion: {type(lightning_module.criterion).__name__}\")\n",
    "print(f\"Optimizer: {optimizer_partial.func.__name__}\")\n"
   ],
   "id": "ce110000-1111-2222-3333-ffffff000009"
  },
  {
   "cell_type": "code",
   "execution_count": null,
   "metadata": {
    "name": "cell12",
    "language": "python"
   },
   "outputs": [],
   "source": [
    "# Set up trainer\n",
    "trainer = L.Trainer(\n",
    "    max_epochs=3,  # Keep it short for demo\n",
    "    accelerator=\"auto\",  # Use GPU if available\n",
    "    devices=1,\n",
    "    logger=True,  # Enable default logger\n",
    "    enable_checkpointing=True,\n",
    "    enable_progress_bar=True,\n",
    "    log_every_n_steps=50\n",
    ")\n",
    "\n",
    "print(f\"Trainer configured:\")\n",
    "print(f\"  Max epochs: {trainer.max_epochs}\")\n",
    "print(f\"  Accelerator: {trainer.accelerator}\")\n",
    "print(f\"  Devices: {trainer.num_devices}\")\n"
   ],
   "id": "ce110000-1111-2222-3333-ffffff000011"
  },
  {
   "cell_type": "code",
   "execution_count": null,
   "metadata": {
    "name": "cell13",
    "language": "python",
    "collapsed": true,
    "codeCollapsed": false
   },
   "outputs": [],
   "source": [
    "# Start training\n",
    "print(\"Starting training...\")\n",
    "trainer.fit(lightning_module, data_module)\n",
    "print(\"Training completed!\")\n"
   ],
   "id": "ce110000-1111-2222-3333-ffffff000012"
  },
  {
   "cell_type": "code",
   "execution_count": null,
   "metadata": {
    "name": "cell15",
    "language": "python"
   },
   "outputs": [],
   "source": [
    "# Test the model\n",
    "test_results = trainer.test(lightning_module, data_module)\n",
    "print(\"Test Results:\")\n",
    "for key, value in test_results[0].items():\n",
    "    print(f\"  {key}: {value:.4f}\")\n"
   ],
   "id": "ce110000-1111-2222-3333-ffffff000014"
  },
  {
   "cell_type": "code",
   "execution_count": null,
   "metadata": {
    "name": "cell17",
    "language": "python"
   },
   "outputs": [],
   "source": [
    "# Set model to evaluation mode\n",
    "lightning_module.eval()\n",
    "\n",
    "# Get a batch of test data\n",
    "test_loader = data_module.test_dataloader()\n",
    "test_iter = iter(test_loader)\n",
    "test_images, test_labels = next(test_iter)\n",
    "\n",
    "# Make predictions\n",
    "with torch.no_grad():\n",
    "    outputs = lightning_module(test_images)\n",
    "    _, predicted = torch.max(outputs, 1)\n",
    "    probabilities = F.softmax(outputs, dim=1)\n",
    "\n",
    "# Visualize predictions\n",
    "fig, axes = plt.subplots(2, 4, figsize=(15, 8))\n",
    "for i in range(8):\n",
    "    ax = axes[i//4, i%4]\n",
    "    \n",
    "    # Display image\n",
    "    img = test_images[i] * 0.5 + 0.5  # Denormalize\n",
    "    ax.imshow(np.transpose(img.numpy(), (1, 2, 0)))\n",
    "    \n",
    "    # Add prediction info\n",
    "    true_class = cifar10_classes[test_labels[i]]\n",
    "    pred_class = cifar10_classes[predicted[i]]\n",
    "    confidence = probabilities[i][predicted[i]].item()\n",
    "    \n",
    "    color = 'green' if predicted[i] == test_labels[i] else 'red'\n",
    "    ax.set_title(f'True: {true_class}\\nPred: {pred_class}\\nConf: {confidence:.2f}', \n",
    "                color=color, fontsize=10)\n",
    "    ax.axis('off')\n",
    "\n",
    "plt.tight_layout()\n",
    "plt.show()\n",
    "\n",
    "# Calculate accuracy for this batch\n",
    "correct = (predicted == test_labels).sum().item()\n",
    "total = test_labels.size(0)\n",
    "batch_accuracy = 100 * correct / total\n",
    "print(f\"Batch accuracy: {batch_accuracy:.2f}% ({correct}/{total})\")\n"
   ],
   "id": "ce110000-1111-2222-3333-ffffff000016"
  },
  {
   "cell_type": "code",
   "execution_count": null,
   "metadata": {
    "name": "cell19",
    "language": "python"
   },
   "outputs": [],
   "source": "# Final summary statistics\nprint(f\"Final Test Accuracy: {test_results[0].get('test_MulticlassAccuracy', 'N/A'):.4f}\")\nprint(f\"Model Parameters: {trainable_params:,}\")\nprint(f\"Dataset Size: {len(data_module.train_dataset):,} training samples\")\n",
   "id": "ce110000-1111-2222-3333-ffffff000018"
  }
 ]
}